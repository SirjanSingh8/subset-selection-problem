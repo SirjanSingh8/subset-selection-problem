{
  "cells": [
    {
      "attachments": {},
      "cell_type": "markdown",
      "metadata": {},
      "source": [
        "---\n",
        "https://colab.research.google.com/drive/1fy1KDnoec5O5uiuF6yv3LWVjfojzt_c3?usp=sharing"
      ]
    },
    {
      "attachments": {},
      "cell_type": "markdown",
      "metadata": {},
      "source": [
        "  ---\n",
        "# **Subset Selection Problem**\n",
        "---\n",
        "####**1. Problem Statement:**\n",
        "Find all the subsets from a set of numbers whose sum is zero.\n",
        "\n",
        "####**Constraint: Subset size must be 5**\n",
        "Set={-12, -3, -6, 7, 2, -2, 6, 3, 9, -7, -5, -8, 1, 11, -9, -4}\n",
        "\n",
        "---"
      ]
    },
    {
      "cell_type": "code",
      "execution_count": 4,
      "metadata": {
        "colab": {
          "base_uri": "https://localhost:8080/"
        },
        "id": "zzblepy0k4LU",
        "outputId": "391d9c2a-ba15-4a48-d03b-a01f156ed683"
      },
      "outputs": [
        {
          "name": "stdout",
          "output_type": "stream",
          "text": [
            "(-12, -3, 2, 6, 7)\n",
            "(-12, -6, 3, 6, 9)\n",
            "(-12, -4, 1, 6, 9)\n",
            "(-7, -4, -2, 6, 7)\n",
            "(-9, -8, 2, 6, 9)\n",
            "(-6, -4, 1, 3, 6)\n",
            "(-6, -4, 1, 2, 7)\n",
            "(-12, -4, 2, 3, 11)\n",
            "(-7, -3, -2, 3, 9)\n",
            "(-12, -7, 2, 6, 11)\n",
            "(-6, -5, -2, 2, 11)\n",
            "(-6, -3, 1, 2, 6)\n",
            "(-8, -4, 2, 3, 7)\n",
            "(-6, -5, -4, 6, 9)\n",
            "(-9, -6, -2, 6, 11)\n",
            "(-6, -3, -2, 2, 9)\n",
            "(-12, -4, 3, 6, 7)\n",
            "(-8, -3, 2, 3, 6)\n",
            "(-12, -9, 3, 7, 11)\n",
            "(-9, -4, 1, 3, 9)\n",
            "(-7, -5, -3, 6, 9)\n",
            "(-8, -6, 2, 3, 9)\n",
            "\n",
            "Total Sets:  22\n"
          ]
        },
        {
          "name": "stderr",
          "output_type": "stream",
          "text": [
            "<ipython-input-4-1c78d5bd80f2>:12: DeprecationWarning: Sampling from a set deprecated\n",
            "since Python 3.9 and will be removed in a subsequent version.\n",
            "  Chromosome = r.sample(Set,SetSize)\n"
          ]
        }
      ],
      "source": [
        "\n",
        "import random as r\n",
        "\n",
        "Set         = set([-12, -3, -6, 7, 2, -2, 6, 3, 9, -7, -5, -8, 1, 11, -9, -4])\n",
        "SetSize     = 5\n",
        "ResultList  = set()    # Store Result List i.e. list of sets whose sum is zero\n",
        "Iterations  = 1000   # Number of Inerations\n",
        "\n",
        "\n",
        "# Loop till number of Iterations\n",
        "for i in range(Iterations):\n",
        "    # Select random elements from Set\n",
        "    Chromosome = r.sample(Set,SetSize)\n",
        "    Chromosome.sort()\n",
        "\n",
        "    # checking for given condition\n",
        "    if sum(Chromosome) == 0:\n",
        "        ResultList.add(tuple(Chromosome))\n",
        "\n",
        "# Print all the sets who fullfilled condition\n",
        "for r in ResultList:\n",
        "\tprint (r)\n",
        "\n",
        "print (\"\\nTotal Sets: \", len(ResultList))\n"
      ]
    },
    {
      "attachments": {},
      "cell_type": "markdown",
      "metadata": {
        "id": "Kaevs6ROim18"
      },
      "source": [
        "---\n",
        "####**2. Problem Statement:**\n",
        "Find all the subsets from a set of numbers whose sum is zero.\n",
        "\n",
        "####**Constraint: Subset size must be 3 to 6 only**\n",
        "Set={-12, -3, -6, 7, 2, -2, 6, 3, 9, -7, -5, -8, 1, 11, -9, -4}\n",
        "\n",
        "---"
      ]
    },
    {
      "cell_type": "code",
      "execution_count": 1,
      "metadata": {
        "colab": {
          "base_uri": "https://localhost:8080/"
        },
        "id": "XmPJbrOXim19",
        "outputId": "78281a9c-0a7b-476e-e768-321ab5969b4b"
      },
      "outputs": [
        {
          "name": "stdout",
          "output_type": "stream",
          "text": [
            "(-7, -4, -2, 6, 7)\n",
            "(-8, -5, 6, 7)\n",
            "(-8, -6, 1, 6, 7)\n",
            "(-5, 2, 3)\n",
            "(-6, -3, -2, 1, 3, 7)\n",
            "(-5, -3, 2, 6)\n",
            "(-4, 1, 3)\n",
            "(-7, -2, 9)\n",
            "(-12, -7, -4, 3, 9, 11)\n",
            "(-4, -3, -2, 9)\n",
            "(-8, 1, 7)\n",
            "(-12, -8, -2, 2, 9, 11)\n",
            "(-4, -2, 6)\n",
            "(-7, -6, 1, 2, 3, 7)\n",
            "(-9, -6, -2, 6, 11)\n",
            "(-3, 1, 2)\n",
            "(-9, 3, 6)\n",
            "(-7, -3, 3, 7)\n",
            "(-7, -5, -3, 2, 6, 7)\n",
            "(-9, 1, 2, 6)\n",
            "(-5, -4, 9)\n",
            "(-8, -6, 2, 3, 9)\n",
            "\n",
            "Total Sets:  22\n"
          ]
        },
        {
          "name": "stderr",
          "output_type": "stream",
          "text": [
            "<ipython-input-1-bf9528fed049>:22: DeprecationWarning: Sampling from a set deprecated\n",
            "since Python 3.9 and will be removed in a subsequent version.\n",
            "  Chromosome = r.sample(Set,SetSize)\n"
          ]
        }
      ],
      "source": [
        "\n",
        "import random as r\n",
        "\n",
        "\n",
        "Set         = set([-12, -3, -6, 7, 2, -2, 6, 3, 9, -7, -5, -8, 1, 11, -9, -4])\n",
        "SetLB       = 3\n",
        "SetUB       = 6\n",
        "ResultList  = set()    # Store list of sets whose sum is zero\n",
        "Iterations  = 1000   \n",
        "\n",
        "# Loop till number of Iterations\n",
        "for i in range(Iterations):\n",
        "    # Select set size randomly\n",
        "    SetSize = r.randint(SetLB,SetUB)\n",
        "\t\n",
        "    # Select number of elements from Set\n",
        "    Chromosome = r.sample(Set,SetSize)\n",
        "    Chromosome.sort()\n",
        "\n",
        "    # Sum the number of elements in the Chromosome\n",
        "    if sum(Chromosome) == 0:\n",
        "        ResultList.add(tuple(Chromosome))\n",
        "\n",
        "# Print all the sets whose sum is zero\n",
        "for r in ResultList:\n",
        "\tprint (r)\n",
        "\n",
        "# Print total sets\n",
        "print (\"\\nTotal Sets: \", len(ResultList))\n"
      ]
    }
  ],
  "metadata": {
    "colab": {
      "provenance": []
    },
    "kernelspec": {
      "display_name": "Python 3",
      "language": "python",
      "name": "python3"
    },
    "language_info": {
      "codemirror_mode": {
        "name": "ipython",
        "version": 3
      },
      "file_extension": ".py",
      "mimetype": "text/x-python",
      "name": "python",
      "nbconvert_exporter": "python",
      "pygments_lexer": "ipython3",
      "version": "3.8.5"
    }
  },
  "nbformat": 4,
  "nbformat_minor": 0
}
